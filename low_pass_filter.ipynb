{
 "cells": [
  {
   "cell_type": "code",
   "execution_count": 1,
   "metadata": {
    "ExecuteTime": {
     "end_time": "2024-10-25T22:59:36.631475Z",
     "start_time": "2024-10-25T22:59:36.627894Z"
    }
   },
   "outputs": [],
   "source": [
    "import numpy as np\n",
    "from PIL import Image, ImageDraw\n",
    "import matplotlib.pyplot as plt\n",
    "\n",
    "eps = 1.e-30"
   ]
  },
  {
   "cell_type": "code",
   "execution_count": null,
   "metadata": {
    "ExecuteTime": {
     "end_time": "2024-10-25T22:59:36.790952Z",
     "start_time": "2024-10-25T22:59:36.708074Z"
    }
   },
   "outputs": [],
   "source": [
    "image = np.array(Image.open('pops_512.jpg'))\n",
    "display(Image.fromarray(image, mode='RGB'))\n",
    "\n",
    "r, g, b = image[:, :, 0], image[:, :, 1], image[:, :, 2]"
   ]
  },
  {
   "cell_type": "code",
   "execution_count": 3,
   "metadata": {
    "ExecuteTime": {
     "end_time": "2024-10-25T22:59:36.800308Z",
     "start_time": "2024-10-25T22:59:36.793882Z"
    }
   },
   "outputs": [],
   "source": [
    "x, y = image.shape[1], image.shape[0]\n",
    "e_x, e_y = 50, 50\n",
    "\n",
    "bbox = (\n",
    "    (x/2)-(e_x/2),\n",
    "    (y/2)-(e_y/2),\n",
    "    (x/2)+(e_x/2),\n",
    "    (y/2)+(e_y/2),\n",
    ")\n",
    "\n",
    "low_pass = Image.new(\"L\", (x, y), color=0)\n",
    "\n",
    "low_pass_draw = ImageDraw.Draw(low_pass)\n",
    "low_pass_draw.ellipse(bbox, fill=255)\n",
    "\n",
    "low_pass_np = np.array(low_pass).astype(np.float64)\n",
    "low_pass_np /= np.max(low_pass_np)"
   ]
  },
  {
   "cell_type": "code",
   "execution_count": 4,
   "metadata": {
    "ExecuteTime": {
     "end_time": "2024-10-25T22:59:36.806652Z",
     "start_time": "2024-10-25T22:59:36.802137Z"
    }
   },
   "outputs": [],
   "source": [
    "def prepare(arr, sf=1):\n",
    "    return np.clip(arr * sf, 0, 255).astype(np.uint8)"
   ]
  },
  {
   "cell_type": "code",
   "execution_count": 5,
   "metadata": {
    "ExecuteTime": {
     "end_time": "2024-10-25T22:59:36.889640Z",
     "start_time": "2024-10-25T22:59:36.809698Z"
    }
   },
   "outputs": [],
   "source": [
    "F_r = np.fft.fftshift(np.fft.fft2(r))\n",
    "F_g = np.fft.fftshift(np.fft.fft2(g))\n",
    "F_b = np.fft.fftshift(np.fft.fft2(b))\n",
    "\n",
    "F_r_filt = F_r * low_pass_np\n",
    "F_g_filt = F_g * low_pass_np\n",
    "F_b_filt = F_b * low_pass_np\n",
    "\n",
    "r_filt = np.fft.ifft2(np.fft.ifftshift(F_r_filt)).real\n",
    "g_filt = np.fft.ifft2(np.fft.ifftshift(F_g_filt)).real\n",
    "b_filt = np.fft.ifft2(np.fft.ifftshift(F_b_filt)).real"
   ]
  },
  {
   "cell_type": "code",
   "execution_count": null,
   "metadata": {
    "ExecuteTime": {
     "end_time": "2024-10-25T22:59:37.255621Z",
     "start_time": "2024-10-25T22:59:36.891518Z"
    }
   },
   "outputs": [],
   "source": [
    "fig, axs = plt.subplots(3, 2)\n",
    "\n",
    "fig.patch.set_visible(False)\n",
    "\n",
    "for ax in axs.ravel():\n",
    "    ax.axis('off')\n",
    "\n",
    "axs[0, 0].imshow(prepare(np.log(np.abs(F_r.real)), sf=15), cmap='Reds_r', vmin = 0, vmax = 255)\n",
    "axs[0, 1].imshow(prepare(np.log(np.abs(F_r_filt.real + eps)), sf=15), cmap='Reds_r', vmin = 0, vmax = 255)\n",
    "axs[1, 0].imshow(prepare(np.log(np.abs(F_g.real)), sf=15), cmap='Greens_r', vmin = 0, vmax = 255)\n",
    "axs[1, 1].imshow(prepare(np.log(np.abs(F_g_filt.real + eps)), sf=15), cmap='Greens_r', vmin = 0, vmax = 255)\n",
    "axs[2, 0].imshow(prepare(np.log(np.abs(F_b.real)), sf=15), cmap='Blues_r', vmin = 0, vmax = 255)\n",
    "axs[2, 1].imshow(prepare(np.log(np.abs(F_b_filt.real + eps)), sf=15), cmap='Blues_r', vmin = 0, vmax = 255)\n",
    "\n",
    "plt.tight_layout()\n",
    "plt.show()"
   ]
  },
  {
   "cell_type": "code",
   "execution_count": null,
   "metadata": {
    "ExecuteTime": {
     "end_time": "2024-10-25T22:59:37.663616Z",
     "start_time": "2024-10-25T22:59:37.262917Z"
    }
   },
   "outputs": [],
   "source": [
    "\n",
    "fig, axs = plt.subplots(3, 2)\n",
    "\n",
    "fig.patch.set_visible(False)\n",
    "\n",
    "for ax in axs.ravel():\n",
    "    ax.axis('off')\n",
    "\n",
    "axs[0, 0].imshow(r, cmap='Reds_r')\n",
    "axs[0, 1].imshow(r_filt, cmap='Reds_r')\n",
    "axs[1, 0].imshow(g, cmap='Greens_r')\n",
    "axs[1, 1].imshow(g_filt, cmap='Greens_r')\n",
    "axs[2, 0].imshow(b, cmap='Blues_r')\n",
    "axs[2, 1].imshow(b_filt, cmap='Blues_r')\n",
    "\n",
    "plt.tight_layout()\n",
    "plt.show()"
   ]
  },
  {
   "cell_type": "code",
   "execution_count": null,
   "metadata": {
    "ExecuteTime": {
     "end_time": "2024-10-25T22:59:38.175147Z",
     "start_time": "2024-10-25T22:59:37.666568Z"
    }
   },
   "outputs": [],
   "source": [
    "fft_orig = prepare(np.log(np.abs(np.dstack((F_r, F_g, F_b)))), sf=15)\n",
    "fft_filt = prepare(np.log(np.abs(np.dstack((F_r_filt, F_g_filt, F_b_filt)))), sf=15)\n",
    "image_filt = prepare(np.dstack((r_filt, g_filt, b_filt)))\n",
    "\n",
    "display(Image.fromarray(fft_orig, mode='RGB'))\n",
    "\n",
    "img = Image.fromarray(fft_filt, mode='RGB')\n",
    "display(img)\n",
    "img.save(\"output/pops_low_pass_fft.png\")\n",
    "\n",
    "img = Image.fromarray(image_filt, mode='RGB')\n",
    "display(img)\n",
    "img.save(\"output/pops_low_pass.png\")"
   ]
  }
 ],
 "metadata": {
  "kernelspec": {
   "display_name": ".venv",
   "language": "python",
   "name": "python3"
  },
  "language_info": {
   "codemirror_mode": {
    "name": "ipython",
    "version": 3
   },
   "file_extension": ".py",
   "mimetype": "text/x-python",
   "name": "python",
   "nbconvert_exporter": "python",
   "pygments_lexer": "ipython3",
   "version": "3.12.7"
  }
 },
 "nbformat": 4,
 "nbformat_minor": 2
}
