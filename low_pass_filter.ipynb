{
 "cells": [
  {
   "cell_type": "code",
   "execution_count": 1,
   "metadata": {},
   "outputs": [],
   "source": [
    "import numpy as np\n",
    "from PIL import Image, ImageDraw, ImageColor\n",
    "import matplotlib.pyplot as plt"
   ]
  },
  {
   "cell_type": "code",
   "execution_count": null,
   "metadata": {},
   "outputs": [],
   "source": [
    "image = np.array(Image.open('pops_512.jpg'))\n",
    "display(Image.fromarray(image, mode='RGB'))\n",
    "\n",
    "r, g, b = image[:, :, 0], image[:, :, 1], image[:, :, 2]"
   ]
  },
  {
   "cell_type": "code",
   "execution_count": 3,
   "metadata": {},
   "outputs": [],
   "source": [
    "x, y = image.shape[1], image.shape[0]\n",
    "e_x, e_y = 50, 50\n",
    "\n",
    "bbox = (\n",
    "    (x/2)-(e_x/2),\n",
    "    (y/2)-(e_y/2),\n",
    "    (x/2)+(e_x/2),\n",
    "    (y/2)+(e_y/2),\n",
    ")\n",
    "\n",
    "low_pass = Image.new(\"L\", (x, y), color=0)\n",
    "\n",
    "low_pass_draw = ImageDraw.Draw(low_pass)\n",
    "low_pass_draw.ellipse(bbox, fill=255)\n",
    "\n",
    "low_pass_np = np.array(low_pass)"
   ]
  },
  {
   "cell_type": "code",
   "execution_count": 4,
   "metadata": {},
   "outputs": [],
   "source": [
    "def normalise(arr, clamp_zero=False):\n",
    "    min_val = np.min(arr) if not clamp_zero else 0\n",
    "    max_val = np.max(arr)\n",
    "\n",
    "    if min_val == max_val:\n",
    "        return np.full_like(arr, 0, dtype=np.uint8)\n",
    "\n",
    "    scale_factor = 255 / (max_val - min_val)\n",
    "    norm_arr = (arr - min_val) * scale_factor\n",
    "\n",
    "    return np.clip(np.round(norm_arr), 0, 255).astype(np.uint8)"
   ]
  },
  {
   "cell_type": "code",
   "execution_count": 5,
   "metadata": {},
   "outputs": [],
   "source": [
    "F_r = np.fft.fftshift(np.fft.fft2(r))\n",
    "F_g = np.fft.fftshift(np.fft.fft2(g))\n",
    "F_b = np.fft.fftshift(np.fft.fft2(b))\n",
    "\n",
    "F_r_filt = F_r * low_pass_np\n",
    "F_g_filt = F_g * low_pass_np\n",
    "F_b_filt = F_b * low_pass_np\n",
    "\n",
    "r_filt = normalise(np.fft.ifft2(np.fft.ifftshift(F_r_filt)).real)\n",
    "g_filt = normalise(np.fft.ifft2(np.fft.ifftshift(F_g_filt)).real)\n",
    "b_filt = normalise(np.fft.ifft2(np.fft.ifftshift(F_b_filt)).real)"
   ]
  },
  {
   "cell_type": "code",
   "execution_count": null,
   "metadata": {},
   "outputs": [],
   "source": [
    "fig, axs = plt.subplots(3, 2)\n",
    "\n",
    "fig.patch.set_visible(False)\n",
    "\n",
    "for ax in axs.ravel():\n",
    "    ax.axis('off')\n",
    "\n",
    "eps = 1.e-30\n",
    "\n",
    "axs[0, 0].imshow(np.log(np.abs(F_r)), cmap='Reds_r')\n",
    "axs[0, 1].imshow(np.log(np.abs(F_r_filt.real + eps)), cmap='Reds_r')\n",
    "axs[1, 0].imshow(np.log(np.abs(F_g.real)), cmap='Greens_r')\n",
    "axs[1, 1].imshow(np.log(np.abs(F_g_filt.real + eps)), cmap='Greens_r')\n",
    "axs[2, 0].imshow(np.log(np.abs(F_b.real)), cmap='Blues_r')\n",
    "axs[2, 1].imshow(np.log(np.abs(F_b_filt.real + eps)), cmap='Blues_r')\n",
    "\n",
    "plt.tight_layout()\n",
    "plt.show()"
   ]
  },
  {
   "cell_type": "code",
   "execution_count": null,
   "metadata": {},
   "outputs": [],
   "source": [
    "fig, axs = plt.subplots(3, 2)\n",
    "\n",
    "fig.patch.set_visible(False)\n",
    "\n",
    "for ax in axs.ravel():\n",
    "    ax.axis('off')\n",
    "\n",
    "axs[0, 0].imshow(r, cmap='Reds_r')\n",
    "axs[0, 1].imshow(r_filt, cmap='Reds_r')\n",
    "axs[1, 0].imshow(g, cmap='Greens_r')\n",
    "axs[1, 1].imshow(g_filt, cmap='Greens_r')\n",
    "axs[2, 0].imshow(b, cmap='Blues_r')\n",
    "axs[2, 1].imshow(b_filt, cmap='Blues_r')\n",
    "\n",
    "plt.tight_layout()\n",
    "plt.show()"
   ]
  },
  {
   "cell_type": "code",
   "execution_count": null,
   "metadata": {},
   "outputs": [],
   "source": [
    "fft_orig = normalise(np.log(np.abs(np.dstack((F_r, F_g, F_b)))), clamp_zero=True)\n",
    "fft_filt = normalise(np.log(np.abs(np.dstack((F_r_filt, F_g_filt, F_b_filt)))), clamp_zero=True)\n",
    "image_filt = normalise(np.dstack((r_filt, g_filt, b_filt)), clamp_zero=True)\n",
    "\n",
    "display(Image.fromarray(fft_orig, mode='RGB'))\n",
    "display(Image.fromarray(fft_filt, mode='RGB'))\n",
    "display(Image.fromarray(image_filt, mode='RGB'))"
   ]
  }
 ],
 "metadata": {
  "kernelspec": {
   "display_name": ".venv",
   "language": "python",
   "name": "python3"
  },
  "language_info": {
   "codemirror_mode": {
    "name": "ipython",
    "version": 3
   },
   "file_extension": ".py",
   "mimetype": "text/x-python",
   "name": "python",
   "nbconvert_exporter": "python",
   "pygments_lexer": "ipython3",
   "version": "3.12.7"
  }
 },
 "nbformat": 4,
 "nbformat_minor": 2
}
