{
 "cells": [
  {
   "cell_type": "code",
   "execution_count": 1,
   "metadata": {
    "ExecuteTime": {
     "end_time": "2024-10-25T22:53:33.098673Z",
     "start_time": "2024-10-25T22:53:33.094665Z"
    }
   },
   "outputs": [],
   "source": [
    "import numpy as np\n",
    "from PIL import Image\n",
    "import matplotlib.pyplot as plt\n",
    "import scipy\n",
    "\n",
    "eps = 1.e-30\n",
    "ft_scale = 16\n",
    "\n",
    "# Either\n",
    "# HIGH_PASS\n",
    "# or\n",
    "# LOW_PASS\n",
    "filter_type = \"HIGH_PASS\""
   ]
  },
  {
   "cell_type": "code",
   "execution_count": null,
   "metadata": {
    "ExecuteTime": {
     "end_time": "2024-10-25T22:53:33.511404Z",
     "start_time": "2024-10-25T22:53:33.215952Z"
    }
   },
   "outputs": [],
   "source": [
    "image = np.array(Image.open('pops_512.jpg'))\n",
    "img = Image.fromarray(image, mode='RGB')\n",
    "display(img)\n",
    "img.save(\"output/pops.png\")\n",
    "\n",
    "r, g, b = image[:, :, 0], image[:, :, 1], image[:, :, 2]"
   ]
  },
  {
   "cell_type": "code",
   "execution_count": 3,
   "metadata": {
    "ExecuteTime": {
     "end_time": "2024-10-25T22:53:33.517258Z",
     "start_time": "2024-10-25T22:53:33.513880Z"
    }
   },
   "outputs": [],
   "source": [
    "def prepare(arr, sf=1):\n",
    "    return np.clip(arr * sf, 0, 255).astype(np.uint8)"
   ]
  },
  {
   "cell_type": "code",
   "execution_count": null,
   "metadata": {
    "ExecuteTime": {
     "end_time": "2024-10-25T22:53:33.539512Z",
     "start_time": "2024-10-25T22:53:33.518870Z"
    }
   },
   "outputs": [],
   "source": [
    "st_dev = 10 if filter_type == \"HIGH_PASS\" else 20\n",
    "gauss_window = scipy.signal.windows.gaussian(image.shape[0], st_dev)\n",
    "\n",
    "gaussian = gauss_window[:, np.newaxis] @ gauss_window[np.newaxis, :]\n",
    "\n",
    "gaussian /= np.max(gaussian)\n",
    "\n",
    "if (filter_type == \"HIGH_PASS\"):\n",
    "    gaussian = 1 - gaussian\n",
    "\n",
    "display(Image.fromarray(prepare(gaussian * 255), mode=\"L\"))"
   ]
  },
  {
   "cell_type": "code",
   "execution_count": 5,
   "metadata": {
    "ExecuteTime": {
     "end_time": "2024-10-25T22:53:33.615967Z",
     "start_time": "2024-10-25T22:53:33.542892Z"
    }
   },
   "outputs": [],
   "source": [
    "F_r = np.fft.fftshift(np.fft.fft2(r))\n",
    "F_g = np.fft.fftshift(np.fft.fft2(g))\n",
    "F_b = np.fft.fftshift(np.fft.fft2(b))\n",
    "\n",
    "F_r_filt = F_r * gaussian\n",
    "F_g_filt = F_g * gaussian\n",
    "F_b_filt = F_b * gaussian\n",
    "\n",
    "r_filt = np.fft.ifft2(np.fft.ifftshift(F_r_filt)).real\n",
    "g_filt = np.fft.ifft2(np.fft.ifftshift(F_g_filt)).real\n",
    "b_filt = np.fft.ifft2(np.fft.ifftshift(F_b_filt)).real"
   ]
  },
  {
   "cell_type": "code",
   "execution_count": null,
   "metadata": {
    "ExecuteTime": {
     "end_time": "2024-10-25T22:53:33.963377Z",
     "start_time": "2024-10-25T22:53:33.617596Z"
    }
   },
   "outputs": [],
   "source": [
    "fig, axs = plt.subplots(3, 2)\n",
    "\n",
    "fig.patch.set_visible(False)\n",
    "\n",
    "for ax in axs.ravel():\n",
    "    ax.axis('off')\n",
    "\n",
    "\n",
    "axs[0, 0].imshow(prepare(np.log(np.abs(F_r.real)), sf=15), cmap='Reds_r', vmin = 0, vmax = 255)\n",
    "axs[0, 1].imshow(prepare(np.log(np.abs(F_r_filt.real + eps)), sf=15), cmap='Reds_r', vmin = 0, vmax = 255)\n",
    "axs[1, 0].imshow(prepare(np.log(np.abs(F_g.real)), sf=15), cmap='Greens_r', vmin = 0, vmax = 255)\n",
    "axs[1, 1].imshow(prepare(np.log(np.abs(F_g_filt.real + eps)), sf=15), cmap='Greens_r', vmin = 0, vmax = 255)\n",
    "axs[2, 0].imshow(prepare(np.log(np.abs(F_b.real)), sf=15), cmap='Blues_r', vmin = 0, vmax = 255)\n",
    "axs[2, 1].imshow(prepare(np.log(np.abs(F_b_filt.real + eps)), sf=15), cmap='Blues_r', vmin = 0, vmax = 255)\n",
    "\n",
    "plt.tight_layout()\n",
    "plt.show()"
   ]
  },
  {
   "cell_type": "code",
   "execution_count": null,
   "metadata": {
    "ExecuteTime": {
     "end_time": "2024-10-25T22:53:34.346107Z",
     "start_time": "2024-10-25T22:53:33.964854Z"
    }
   },
   "outputs": [],
   "source": [
    "fig, axs = plt.subplots(3, 2)\n",
    "\n",
    "fig.patch.set_visible(False)\n",
    "\n",
    "for ax in axs.ravel():\n",
    "    ax.axis('off')\n",
    "\n",
    "axs[0, 0].imshow(r, cmap='Reds_r')\n",
    "axs[0, 1].imshow(r_filt, cmap='Reds_r')\n",
    "axs[1, 0].imshow(g, cmap='Greens_r')\n",
    "axs[1, 1].imshow(g_filt, cmap='Greens_r')\n",
    "axs[2, 0].imshow(b, cmap='Blues_r')\n",
    "axs[2, 1].imshow(b_filt, cmap='Blues_r')\n",
    "\n",
    "plt.tight_layout()\n",
    "plt.show()"
   ]
  },
  {
   "cell_type": "code",
   "execution_count": null,
   "metadata": {
    "ExecuteTime": {
     "end_time": "2024-10-25T22:53:35.107026Z",
     "start_time": "2024-10-25T22:53:34.350462Z"
    }
   },
   "outputs": [],
   "source": [
    "fft_orig = prepare(np.log(np.abs(np.dstack((F_r, F_g, F_b)))), sf=15)\n",
    "fft_filt = prepare(np.log(np.abs(np.dstack((F_r_filt, F_g_filt, F_b_filt)))), sf=15)\n",
    "image_filt = prepare(np.dstack((r_filt, g_filt, b_filt)))\n",
    "\n",
    "img = Image.fromarray(fft_orig, mode='RGB')\n",
    "display(img)\n",
    "img.save(\"output/pops_fft.png\")\n",
    "\n",
    "img = Image.fromarray(fft_filt, mode='RGB')\n",
    "display(img)\n",
    "img.save(f\"output/pops_{filter_type.lower()}_gauss_fft.png\")\n",
    "\n",
    "img = Image.fromarray(image_filt, mode='RGB')\n",
    "display(img)\n",
    "img.save(f\"output/pops_{filter_type.lower()}_gauss.png\")"
   ]
  }
 ],
 "metadata": {
  "kernelspec": {
   "display_name": ".venv",
   "language": "python",
   "name": "python3"
  },
  "language_info": {
   "codemirror_mode": {
    "name": "ipython",
    "version": 3
   },
   "file_extension": ".py",
   "mimetype": "text/x-python",
   "name": "python",
   "nbconvert_exporter": "python",
   "pygments_lexer": "ipython3",
   "version": "3.12.7"
  }
 },
 "nbformat": 4,
 "nbformat_minor": 2
}
